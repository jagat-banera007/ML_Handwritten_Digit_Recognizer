{
 "cells": [
  {
   "cell_type": "code",
   "execution_count": 1,
   "metadata": {},
   "outputs": [],
   "source": [
    "import pandas as pd \n",
    "import numpy as np "
   ]
  },
  {
   "cell_type": "code",
   "execution_count": 2,
   "metadata": {},
   "outputs": [],
   "source": [
    "#Fetching the dataset \n",
    "def fetch():\n",
    "    train_set = pd.read_csv(r'C:\\Users\\Jagat\\Desktop\\ML(DATASETS)\\mnist_train.csv').to_numpy()\n",
    "    test_set  = pd.read_csv(r'C:\\Users\\Jagat\\Desktop\\ML(DATASETS)\\mnist_test.csv').to_numpy()\n",
    "    return train_set , test_set\n",
    "train , test = fetch()\n"
   ]
  },
  {
   "cell_type": "code",
   "execution_count": 3,
   "metadata": {},
   "outputs": [],
   "source": [
    "# Splitting into lablel and data \n",
    "x_train = train[0:59000,1:]\n",
    "y_train = train[0:59000,0]\n",
    "x_test = test[0:9999,1:]\n",
    "y_test = test[0:9999,0]\n",
    "\n"
   ]
  },
  {
   "cell_type": "code",
   "execution_count": 4,
   "metadata": {},
   "outputs": [
    {
     "data": {
      "text/plain": [
       "<matplotlib.image.AxesImage at 0x249dc3c22b0>"
      ]
     },
     "execution_count": 4,
     "metadata": {},
     "output_type": "execute_result"
    },
    {
     "data": {
      "image/png": "[encoded data removed]",
      "text/plain": [
       "<Figure size 432x288 with 1 Axes>"
      ]
     },
     "metadata": {
      "needs_background": "light"
     },
     "output_type": "display_data"
    }
   ],
   "source": [
    "# Looking at the data(pixel_zixe=28*28)\n",
    "import matplotlib as mpl \n",
    "import matplotlib.pyplot as plt \n",
    "digit = x_train[5]\n",
    "image = np.reshape(digit,(28,28))\n",
    "plt.imshow(image,cmap=mpl.cm.binary,interpolation=\"nearest\")"
   ]
  },
  {
   "cell_type": "code",
   "execution_count": 5,
   "metadata": {},
   "outputs": [
    {
     "data": {
      "text/plain": [
       "KNeighborsClassifier(n_neighbors=1)"
      ]
     },
     "execution_count": 5,
     "metadata": {},
     "output_type": "execute_result"
    }
   ],
   "source": [
    "# Using K-Neighbor Classsifier as our traning model , and training it using train dataset \n",
    "from sklearn.neighbors import KNeighborsClassifier \n",
    "K_neigh = KNeighborsClassifier(n_neighbors=1)\n",
    "K_neigh.fit(x_train,y_train)"
   ]
  },
  {
   "cell_type": "code",
   "execution_count": 6,
   "metadata": {},
   "outputs": [],
   "source": [
    "# Testing the model on test dataset \n",
    "y_predicted = K_neigh.predict(x_test) \n"
   ]
  },
  {
   "cell_type": "code",
   "execution_count": 39,
   "metadata": {},
   "outputs": [
    {
     "name": "stdout",
     "output_type": "stream",
     "text": [
      "              precision    recall  f1-score   support\n",
      "\n",
      "           0       0.98      0.99      0.99       980\n",
      "           1       0.97      0.99      0.98      1135\n",
      "           2       0.98      0.96      0.97      1032\n",
      "           3       0.96      0.96      0.96      1010\n",
      "           4       0.97      0.96      0.97       982\n",
      "           5       0.95      0.96      0.96       892\n",
      "           6       0.98      0.99      0.98       957\n",
      "           7       0.96      0.97      0.96      1028\n",
      "           8       0.98      0.94      0.96       974\n",
      "           9       0.96      0.96      0.96      1009\n",
      "\n",
      "    accuracy                           0.97      9999\n",
      "   macro avg       0.97      0.97      0.97      9999\n",
      "weighted avg       0.97      0.97      0.97      9999\n",
      "\n"
     ]
    }
   ],
   "source": [
    "# Calculating Precision and Recall and F1 score for every Number(0-9) Predicted by Our Classifier  \n",
    "from sklearn.metrics import classification_report \n",
    "print(classification_report(y_test,y_predicted,labels=[0,1,2,3,4,5,6,7,8,9])) # For every label "
   ]
  },
  {
   "cell_type": "code",
   "execution_count": 41,
   "metadata": {},
   "outputs": [
    {
     "data": {
      "image/png": "[encoded data removed]",
      "text/plain": [
       "<Figure size 432x288 with 1 Axes>"
      ]
     },
     "metadata": {
      "needs_background": "light"
     },
     "output_type": "display_data"
    }
   ],
   "source": [
    "# Now to Plot Precison-Recall Curve for Multilablel Classifiaction Task in hand \n",
    "from sklearn.metrics import precision_recall_curve\n",
    "from sklearn.preprocessing import label_binarize \n",
    "y_test_label = label_binarize(y_test, classes=[0, 1, 2,3,4,5,6,7,8,9])\n",
    "y_predicted_label = label_binarize(y_predicted, classes=[0, 1, 2,3,4,5,6,7,8,9])\n",
    "n_classes = y_test_label.shape[1]\n",
    "\n",
    "precision = dict()\n",
    "recall = dict()\n",
    "for i in range(10):\n",
    "     precision[i], recall[i], _ = precision_recall_curve(y_test_label[:,i],\n",
    "                                                        y_predicted_label[:,i])\n",
    "     plt.plot(recall[i], precision[i], lw=2, label='class {}'.format(i))\n",
    "    \n",
    "plt.xlabel(\"recall\")\n",
    "plt.ylabel(\"precision\")\n",
    "plt.legend(loc=\"best\")\n",
    "plt.title(\"precision vs. recall curve\")\n",
    "plt.show()\n"
   ]
  },
  {
   "cell_type": "code",
   "execution_count": null,
   "metadata": {},
   "outputs": [],
   "source": []
  },
  {
   "cell_type": "code",
   "execution_count": null,
   "metadata": {},
   "outputs": [],
   "source": []
  }
 ],
 "metadata": {
  "kernelspec": {
   "display_name": "Python 3",
   "language": "python",
   "name": "python3"
  },
  "language_info": {
   "codemirror_mode": {
    "name": "ipython",
    "version": 3
   },
   "file_extension": ".py",
   "mimetype": "text/x-python",
   "name": "python",
   "nbconvert_exporter": "python",
   "pygments_lexer": "ipython3",
   "version": "3.8.5"
  }
 },
 "nbformat": 4,
 "nbformat_minor": 4
}
